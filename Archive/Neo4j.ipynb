{
 "cells": [
  {
   "cell_type": "code",
   "execution_count": null,
   "source": [
    "from neo4j import GraphDatabase\r\n",
    "import json\r\n",
    "from Modules.process_pubmed_data import *"
   ],
   "outputs": [],
   "metadata": {}
  },
  {
   "cell_type": "code",
   "execution_count": null,
   "source": [
    "# Network Analysis in Neo4J\r\n",
    "\r\n",
    "# Medical Devices\r\n",
    "# Create author data file\r\n",
    "with open(\"JSON Data/device_pubmed_data.json\", \"r\") as f:\r\n",
    "    pubmed_data = json.load(f)\r\n",
    "get_author_info(pubmed_data=pubmed_data, write_file=\"JSON Data/device_author_data.json\")\r\n",
    "\r\n",
    "# Extract and clean affiliations\r\n",
    "with open(\"JSON Data/device_author_data.json\", \"r\") as f:\r\n",
    "    data = json.load(f)\r\n",
    "match_affiliation(data, 90, \"JSON Data/device_institution_match.json\")\r\n",
    "\r\n",
    "# Biomedical\r\n",
    "with open(\"JSON Data/biomed_pubmed_data.json\", \"r\") as f:\r\n",
    "    pubmed_data = json.load(f)\r\n",
    "get_author_info(pubmed_data=pubmed_data, cutoff_year=2000, write_file=\"JSON Data/biomed_author_data.json\")\r\n",
    "\r\n",
    "with open(\"JSON Data/biomed_author_data.json\", \"r\") as f:\r\n",
    "    data = json.load(f)\r\n",
    "match_affiliation(data, 90, \"JSON Data/biomed_institution_match.json\")\r\n",
    "\r\n",
    "## Neo4J\r\n",
    "# Pick the correct driver for target local database\r\n",
    "#driver = GraphDatabase.driver(\"neo4j://localhost:7687\", auth=(\"neo4j\", \"devices\"))\r\n",
    "driver = GraphDatabase.driver(\"neo4j://localhost:7687\", auth=(\"neo4j\", \"biomed\"))\r\n",
    "def create_author_node(tx, author_name, author_data):\r\n",
    "        tx.run(\"MERGE (a: author {id: $id, name: $name, years_active: $years_active})\", \r\n",
    "        id=author_data[author_name][\"id\"], name=author_name, \r\n",
    "        # Some authors have multiple papers published in the same year. Ex: Munzner RF\r\n",
    "        years_active=list(set([eval(date).year for date in author_data[author_name][\"years active\"]])))\r\n",
    "def add_relationships(tx, author_name, author_data):\r\n",
    "    for coauthor in author_data[author_name][\"edges\"]:\r\n",
    "        tx.run(\"\"\"MATCH (a: author {id: $a_id, name: $a_name})\r\n",
    "        MATCH (b: author {id: $b_id, name: $b_name})\r\n",
    "        MERGE (a)-[c:COAUTHOR {date: $date}]->(b)\"\"\",\r\n",
    "        a_id=author_data[author_name][\"id\"],\r\n",
    "        a_name=author_name,\r\n",
    "        b_id=author_data[coauthor[0]][\"id\"],\r\n",
    "        b_name=coauthor[0],\r\n",
    "        date=eval(coauthor[1]).isoformat())\r\n"
   ],
   "outputs": [],
   "metadata": {}
  }
 ],
 "metadata": {
  "orig_nbformat": 4,
  "language_info": {
   "name": "python"
  }
 },
 "nbformat": 4,
 "nbformat_minor": 2
}