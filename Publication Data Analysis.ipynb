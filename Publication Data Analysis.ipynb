{
 "cells": [
  {
   "cell_type": "markdown",
   "source": [
    "*** Work in Progress ***"
   ],
   "metadata": {}
  },
  {
   "cell_type": "code",
   "execution_count": 1,
   "source": [
    "import pandas as pd\r\n",
    "import numpy as np\r\n",
    "import json\r\n",
    "import datetime  # needed for eval() function\r\n",
    "from collections import Counter  \r\n",
    "from matplotlib import pyplot as plt\r\n",
    "# import re\r\n",
    "# import csv\r\n",
    "from Modules.pubmed_import import search_and_dump\r\n",
    "from Modules.process_pubmed_data import get_author_info, create_df\r\n",
    "import networkx as nx"
   ],
   "outputs": [],
   "metadata": {
    "colab": {},
    "colab_type": "code",
    "id": "a-5Jn7QOhBFO"
   }
  },
  {
   "cell_type": "code",
   "execution_count": 2,
   "source": [
    "# File Paths\r\n",
    "device_pubmed = './JSON_Data/device_pubmed_data.json'\r\n",
    "biomed_pubmed = './JSON_Data/biomed_pubmed_data.json'\r\n",
    "\r\n",
    "device_author = './JSON_Data/device_author_data.json'\r\n",
    "biomed_author = './JSON_Data/biomed_author_data.json'"
   ],
   "outputs": [],
   "metadata": {}
  },
  {
   "cell_type": "code",
   "execution_count": 12,
   "source": [
    "# def create_df(file_path, clean_years=True, cutoff_year=2000, remove_errors=False):\r\n",
    "#     with open(file_path, \"r\") as f:\r\n",
    "#         full_dict = json.load(f)\r\n",
    "    \r\n",
    "#     # slim_dict = {key:value for (key, value) in full_dict.items() if key in [\"Pubmed ID\", \"Title\", \"Journal\", \"Date\"]}\r\n",
    "#     df = pd.DataFrame.from_dict(full_dict)\r\n",
    "#     if remove_errors:\r\n",
    "#         df = df[df[\"Pubmed ID\"] != \"000\"]  # Removes data with parsing error\r\n",
    "    \r\n",
    "#     # Cleaning years\r\n",
    "#     if clean_years:\r\n",
    "#         df[\"Date\"] = df[\"Date\"].apply(lambda x : eval(x).year)  # Converts date from __repr__ format\r\n",
    "#         for index in df.loc[df[\"Date\"] > cutoff_year].index:\r\n",
    "#             df.drop([index], inplace=True)\r\n",
    "    \r\n",
    "#     return df"
   ],
   "outputs": [],
   "metadata": {}
  },
  {
   "cell_type": "markdown",
   "source": [
    "# Retrieve Data"
   ],
   "metadata": {}
  },
  {
   "cell_type": "markdown",
   "source": [
    "### Queries"
   ],
   "metadata": {}
  },
  {
   "cell_type": "code",
   "execution_count": 10,
   "source": [
    "# Searches for items with \"medical device(s)\" in the title or abstract\r\n",
    "# search_and_dump(query_string='''(((medical device[Title/Abstract]) OR (medical devices[Title/Abstract])) AND (english[Language])) \r\n",
    "#                                 AND ((\"1850\"[Date - Publication] : \"2004\"[Date - Publication]))''',\r\n",
    "#                max_results=3000, file_name=\"device_pubmed_data.json\", create_json=True)"
   ],
   "outputs": [],
   "metadata": {}
  },
  {
   "cell_type": "code",
   "execution_count": 11,
   "source": [
    "# Searches for all items under the biomedical technolgy and engineering MESH headings\r\n",
    "# search_and_dump(query_string='''(\"Biomedical Technology\"[Mesh] OR \"Biomedical Engineering\"[Mesh]) \r\n",
    "#                                 AND (1900:2004[pdat]) AND (english[Language])''',\r\n",
    "#                max_results=10000, file_name=\"biomed_pubmed_data.json\", create_json=True)"
   ],
   "outputs": [],
   "metadata": {}
  },
  {
   "cell_type": "markdown",
   "source": [
    "# Publication Analysis"
   ],
   "metadata": {}
  },
  {
   "cell_type": "markdown",
   "source": [
    "Some articles are listed with abnormal years (e.g. years outside of the range that was input to the query). This is a problem that seems to exists even in the browser version of PubMed. These errors are not randomly distributed. They overwhelmingly happen in the final year of the search range. My current solution is to extend the search range beyond what I want (up to the year 2000), then discarding all values outside of my target date range. This should pick up most of the incorrectly labeled data."
   ],
   "metadata": {}
  },
  {
   "cell_type": "code",
   "execution_count": 3,
   "source": [
    "device_df = create_df(device_pubmed, clean_years=True, cutoff_year=2000, remove_errors=False)\r\n",
    "biomed_df = create_df(biomed_pubmed, clean_years=True, cutoff_year=2000, remove_errors=False)"
   ],
   "outputs": [],
   "metadata": {}
  },
  {
   "cell_type": "markdown",
   "source": [
    "### Publications by Year"
   ],
   "metadata": {}
  },
  {
   "cell_type": "code",
   "execution_count": 14,
   "source": [
    "def plot_articles_by_year(df, title):\r\n",
    "    '''\r\n",
    "    This function plots the number of articles published each year.\r\n",
    "    '''\r\n",
    "    df_year = df.groupby(['Date'])['Pubmed ID'].count()\r\n",
    "    df_year.plot(kind='bar')\r\n",
    "\r\n",
    "    plt.xlabel('Year')\r\n",
    "    plt.ylabel('Number of Articles')\r\n",
    "    plt.title(title)\r\n",
    "    plt.xticks(np.arange(0, len(df_year), step=5), rotation=90)\r\n",
    "    plt.show()"
   ],
   "outputs": [],
   "metadata": {}
  },
  {
   "cell_type": "code",
   "execution_count": 15,
   "source": [
    "plot_articles_by_year(device_df,'Number of Medical Device Articles by Year')\r\n",
    "plot_articles_by_year(biomed_df,'Number of Biomedical Articles by Year')"
   ],
   "outputs": [
    {
     "output_type": "display_data",
     "data": {
      "text/plain": [
       "<Figure size 432x288 with 1 Axes>"
      ],
      "image/png": "[encoded data removed]"
     },
     "metadata": {
      "needs_background": "light"
     }
    },
    {
     "output_type": "display_data",
     "data": {
      "text/plain": [
       "<Figure size 432x288 with 1 Axes>"
      ],
      "image/png": "[encoded data removed]"
     },
     "metadata": {
      "needs_background": "light"
     }
    }
   ],
   "metadata": {}
  },
  {
   "cell_type": "markdown",
   "source": [
    "### For Export to Voyant Tools"
   ],
   "metadata": {}
  },
  {
   "cell_type": "code",
   "execution_count": 16,
   "source": [
    "def voyant_export(year_group, dataset_name, start_year, end_year=2000):\r\n",
    "    year_title_list = year_group[\"Title\"].unique()\r\n",
    "    \r\n",
    "    for year in range(start_year, end_year + 1):\r\n",
    "        temp_list = []\r\n",
    "        try:\r\n",
    "            for title in year_title_list[year]:\r\n",
    "                title = title.replace(\"--\", \" \")\r\n",
    "                title = title + \"\\n\"\r\n",
    "                temp_list.append(title)\r\n",
    "            \r\n",
    "            with open(\"Title Data Files/{a}/{b}_{a}.txt\".format(b=year, a=dataset_name), \"w\") as f:\r\n",
    "                f.writelines(temp_list)\r\n",
    "       \r\n",
    "        except KeyError:  # If there were no publication in a year in the range\r\n",
    "            pass\r\n",
    "    \r\n",
    "    print(\"Data Exported\")"
   ],
   "outputs": [],
   "metadata": {}
  },
  {
   "cell_type": "code",
   "execution_count": 17,
   "source": [
    "# voyant_export(year_group = device_date_group, dataset_name=\"med_dev\", start_year=1952, end_year=2000)\r\n",
    "# voyant_export(year_group = biomed_date_group, dataset_name=\"biomed\", start_year=1950, end_year=2000)"
   ],
   "outputs": [],
   "metadata": {}
  },
  {
   "cell_type": "markdown",
   "source": [
    "Medical Device Publication Word Frequency: https://voyant-tools.org/?corpus=fa33b04ff82a6bb8eb2bb7c2b5c9837a&panels=corpusterms,termsberry,trends,summary,contexts\r\n",
    "\r\n",
    "Biomedical Publication Corpus: https://voyant-tools.org/?corpus=d27c6e29211b43ce02d1d96f182704ae"
   ],
   "metadata": {}
  },
  {
   "cell_type": "markdown",
   "source": [
    "# NetworkX Graph"
   ],
   "metadata": {}
  },
  {
   "cell_type": "code",
   "execution_count": 4,
   "source": [
    "def open_json(file_name):\r\n",
    "    with open(file_name, 'r') as f:\r\n",
    "        data = json.load(f)\r\n",
    "    return data"
   ],
   "outputs": [],
   "metadata": {}
  },
  {
   "cell_type": "code",
   "execution_count": 5,
   "source": [
    "def check_in_range(list1, date_strt, date_end):\r\n",
    "    '''\r\n",
    "    Check if any value in list1 is in date range\r\n",
    "    '''\r\n",
    "    for i in range(len(list1)):\r\n",
    "        if list1[i] >= date_strt and list1[i] < date_end:\r\n",
    "            return True"
   ],
   "outputs": [],
   "metadata": {}
  },
  {
   "cell_type": "code",
   "execution_count": 6,
   "source": [
    "def make_adj_list(author_data, out_file, date_strt, date_end):\r\n",
    "    '''\r\n",
    "    Build multiline adjacency list from author JSON file\r\n",
    "    '''\r\n",
    "    with open(out_file, 'wt') as out_file:\r\n",
    "        for author in author_data:\r\n",
    "            years_active = [eval(year) for year in author_data[author]['years active']]\r\n",
    "            coauthor_list = [i[0] for i in author_data[author]['edges'] if check_in_range([eval(i[2])], date_strt, date_end)]\r\n",
    "            weights = Counter(coauthor_list)\r\n",
    "\r\n",
    "            if check_in_range(years_active, date_strt, date_end):\r\n",
    "                out_file.write(str(author_data[author]['id']) + ' ' + '{}'.format(len(coauthor_list)) + '\\n')\r\n",
    "                for coauthor in coauthor_list:\r\n",
    "                    out_file.write(str(author_data[coauthor]['id']) + ' ' + \"{'weight': %s}\" % weights[coauthor] + '\\n')"
   ],
   "outputs": [],
   "metadata": {}
  },
  {
   "cell_type": "code",
   "execution_count": 19,
   "source": [
    "# Create JSON file\r\n",
    "get_author_info(create_df(biomed_pubmed, clean_years=False, remove_errors=False), cutoff_year=2000, write_file_name=biomed_author)"
   ],
   "outputs": [],
   "metadata": {}
  },
  {
   "cell_type": "code",
   "execution_count": 8,
   "source": [
    "# Process JSON in multiline adjacency list format\r\n",
    "bio_multi_adj = './JSON_Data/biomed_multiline.csv'\r\n",
    "make_adj_list(open_json(biomed_author), bio_multi_adj, date_strt=datetime.date(1970, 1, 1), date_end=datetime.date(1980, 1, 1))"
   ],
   "outputs": [],
   "metadata": {}
  },
  {
   "cell_type": "code",
   "execution_count": 9,
   "source": [
    "G = nx.read_multiline_adjlist(path=bio_multi_adj, create_using=nx.Graph())"
   ],
   "outputs": [],
   "metadata": {}
  },
  {
   "cell_type": "code",
   "execution_count": 13,
   "source": [
    "G['234']"
   ],
   "outputs": [
    {
     "output_type": "execute_result",
     "data": {
      "text/plain": [
       "AtlasView({'9417': {'weight': 1}, '9419': {'weight': 1}, '10677': {'weight': 1}, '10796': {'weight': 1}, '10797': {'weight': 1}})"
      ]
     },
     "metadata": {},
     "execution_count": 13
    }
   ],
   "metadata": {}
  },
  {
   "cell_type": "code",
   "execution_count": 14,
   "source": [
    "G['9417']"
   ],
   "outputs": [
    {
     "output_type": "execute_result",
     "data": {
      "text/plain": [
       "AtlasView({'234': {'weight': 1}, '9419': {'weight': 1}})"
      ]
     },
     "metadata": {},
     "execution_count": 14
    }
   ],
   "metadata": {}
  },
  {
   "cell_type": "markdown",
   "source": [],
   "metadata": {}
  }
 ],
 "metadata": {
  "colab": {
   "name": "PubMed API Data Analysis.ipynb",
   "provenance": []
  },
  "interpreter": {
   "hash": "0e98509fe8d16b624311d3cde037a6677164c074b42c9d63ba4b1c027b9f92cd"
  },
  "kernelspec": {
   "name": "python3",
   "display_name": "Python 3.8.8 64-bit ('base': conda)"
  },
  "language_info": {
   "name": "python",
   "version": "3.8.8",
   "mimetype": "text/x-python",
   "codemirror_mode": {
    "name": "ipython",
    "version": 3
   },
   "pygments_lexer": "ipython3",
   "nbconvert_exporter": "python",
   "file_extension": ".py"
  }
 },
 "nbformat": 4,
 "nbformat_minor": 4
}