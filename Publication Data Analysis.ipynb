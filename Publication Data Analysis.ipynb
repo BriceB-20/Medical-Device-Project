{
 "cells": [
  {
   "cell_type": "markdown",
   "source": [
    "*** Work in Progress ***"
   ],
   "metadata": {}
  },
  {
   "cell_type": "code",
   "execution_count": 1,
   "source": [
    "import pandas as pd\r\n",
    "import json\r\n",
    "import datetime\r\n",
    "from collections import Counter  \r\n",
    "from matplotlib import pyplot as plt\r\n",
    "import re\r\n",
    "import csv\r\n",
    "from Modules.pubmed_import import search_and_dump\r\n",
    "import networkx as nx"
   ],
   "outputs": [],
   "metadata": {
    "colab": {},
    "colab_type": "code",
    "id": "a-5Jn7QOhBFO"
   }
  },
  {
   "cell_type": "code",
   "execution_count": 3,
   "source": [
    "# TODO"
   ],
   "outputs": [],
   "metadata": {}
  },
  {
   "cell_type": "markdown",
   "source": [
    "# Retrieve Data"
   ],
   "metadata": {}
  },
  {
   "cell_type": "markdown",
   "source": [
    "### Queries"
   ],
   "metadata": {}
  },
  {
   "cell_type": "code",
   "execution_count": 4,
   "source": [
    "# Searches for all items with \"medical device(s)\" in the title or abstract\r\n",
    "# search_and_dump(query_string='''(((medical device[Title/Abstract]) OR (medical devices[Title/Abstract])) AND (english[Language])) \r\n",
    "#                                 AND ((\"1850\"[Date - Publication] : \"2004\"[Date - Publication]))''',\r\n",
    "#                max_results=3000, file_name=\"device_pubmed_data.json\", create_json=True)"
   ],
   "outputs": [],
   "metadata": {}
  },
  {
   "cell_type": "code",
   "execution_count": 5,
   "source": [
    "# search_and_dump(query_string='''(\"Biomedical Technology\"[Mesh] OR \"Biomedical Engineering\"[Mesh]) \r\n",
    "#                                 AND (1900:2004[pdat]) AND (english[Language])''',\r\n",
    "#                max_results=10000, file_name=\"biomed_pubmed_data.json\", create_json=True)"
   ],
   "outputs": [],
   "metadata": {}
  },
  {
   "cell_type": "markdown",
   "source": [
    "# Publication Analysis"
   ],
   "metadata": {}
  },
  {
   "cell_type": "markdown",
   "source": [
    "Some articles are listed with abnormal years (e.g. years outside of the range that was input to the query). This is a problem that seems to exists even in the browser version of PubMed. These errors are not randomly distributed. They overwhelmingly happen in the final year of the search range. My current solution is to extend the search range beyond what I want (up to the year 2000), then discarding all values outside of my target date range. This should pick up most of the incorrectly labeled data."
   ],
   "metadata": {}
  },
  {
   "cell_type": "code",
   "execution_count": 6,
   "source": [
    "def create_df(file_path, cutoff_year=2000):\r\n",
    "    with open(file_path, \"r\") as f:\r\n",
    "        full_dict = json.load(f)\r\n",
    "    \r\n",
    "    slim_dict = {key:value for (key, value) in full_dict.items() if key in [\"Pubmed ID\", \"Title\", \"Journal\", \"Date\"]}\r\n",
    "    df = pd.DataFrame.from_dict(slim_dict)\r\n",
    "    # df = df[df[\"Pubmed ID\"] != \"000\"]  # Removes data with parsing error\r\n",
    "    df[\"Date\"] = df[\"Date\"].apply(lambda x : eval(x).year)  # Converts date from __repr__ format\r\n",
    "    \r\n",
    "    # Cleaning years\r\n",
    "    for index in df.loc[df[\"Date\"] > cutoff_year].index:\r\n",
    "        df.drop([index], inplace=True)\r\n",
    "    \r\n",
    "    return df"
   ],
   "outputs": [],
   "metadata": {}
  },
  {
   "cell_type": "code",
   "execution_count": 7,
   "source": [
    "device_df = create_df(\"./JSON Data/device_pubmed_data.json\", 2000)\r\n",
    "biomed_df = create_df(\"./JSON Data/biomed_pubmed_data.json\", 2000)"
   ],
   "outputs": [],
   "metadata": {}
  },
  {
   "cell_type": "markdown",
   "source": [
    "### Publications by Year"
   ],
   "metadata": {}
  },
  {
   "cell_type": "code",
   "execution_count": 8,
   "source": [
    "device_date_group = device_df.groupby([\"Date\"])\r\n",
    "device_pub_year_table = device_date_group[\"Journal\"].apply(lambda y: y.agg(lambda x : x.value_counts().sum()))"
   ],
   "outputs": [],
   "metadata": {}
  },
  {
   "cell_type": "code",
   "execution_count": 9,
   "source": [
    "plt.bar(device_pub_year_table.index, [device_pub_year_table.get(x) for x in device_pub_year_table.index])\r\n",
    "plt.xlabel(\"Year\")\r\n",
    "plt.ylabel(\"Number of Articles\")\r\n",
    "plt.title(\"Number of Medical Device Articles by Year\")\r\n",
    "plt.show()"
   ],
   "outputs": [
    {
     "output_type": "display_data",
     "data": {
      "text/plain": [
       "<Figure size 432x288 with 1 Axes>"
      ],
      "image/png": "[encoded data removed]"
     },
     "metadata": {
      "needs_background": "light"
     }
    }
   ],
   "metadata": {}
  },
  {
   "cell_type": "markdown",
   "source": [
    "### For Export to Voyant Tools"
   ],
   "metadata": {}
  },
  {
   "cell_type": "code",
   "execution_count": 10,
   "source": [
    "def voyant_export(year_group, dataset_name, start_year, end_year=2000):\r\n",
    "    year_title_list = year_group[\"Title\"].unique()\r\n",
    "    \r\n",
    "    for year in range(start_year, end_year + 1):\r\n",
    "        temp_list = []\r\n",
    "        try:\r\n",
    "            for title in year_title_list[year]:\r\n",
    "                title = title.replace(\"--\", \" \")\r\n",
    "                title = title + \"\\n\"\r\n",
    "                temp_list.append(title)\r\n",
    "            \r\n",
    "            with open(\"Title Data Files/{a}/{b}_{a}.txt\".format(b=year, a=dataset_name), \"w\") as f:\r\n",
    "                f.writelines(temp_list)\r\n",
    "       \r\n",
    "        except KeyError:  # If there were no publication in a year in the range\r\n",
    "            pass\r\n",
    "    \r\n",
    "    print(\"Data Exported\")"
   ],
   "outputs": [],
   "metadata": {}
  },
  {
   "cell_type": "code",
   "execution_count": null,
   "source": [
    "# voyant_export(year_group = device_date_group, dataset_name=\"med_dev\", start_year=1952, end_year=2000)\r\n",
    "# voyant_export(year_group = biomed_date_group, dataset_name=\"biomed\", start_year=1950, end_year=2000)"
   ],
   "outputs": [],
   "metadata": {}
  },
  {
   "cell_type": "markdown",
   "source": [
    "Medical Device Publication Word Frequency: https://voyant-tools.org/?corpus=fa33b04ff82a6bb8eb2bb7c2b5c9837a&panels=corpusterms,termsberry,trends,summary,contexts\r\n",
    "\r\n",
    "Biomedical Publication Corpus: https://voyant-tools.org/?corpus=d27c6e29211b43ce02d1d96f182704ae"
   ],
   "metadata": {}
  },
  {
   "cell_type": "markdown",
   "source": [
    "# NetworkX Graph"
   ],
   "metadata": {}
  },
  {
   "cell_type": "code",
   "execution_count": null,
   "source": [
    "with open(file_path, \"r\") as f:\r\n",
    "    full_dict = json.load(f)"
   ],
   "outputs": [],
   "metadata": {}
  },
  {
   "cell_type": "code",
   "execution_count": 11,
   "source": [
    "G = nx.Graph()\r\n",
    "\r\n",
    "for author in "
   ],
   "outputs": [
    {
     "output_type": "execute_result",
     "data": {
      "text/plain": [
       "     Pubmed ID                                              Title  \\\n",
       "2043  11132200  Importance of temperature and humidity in the ...   \n",
       "2044  11132199  Biphasic material properties of lytic bone met...   \n",
       "2045  11132198  Computer- and robot-assisted total knee replac...   \n",
       "2046  11132197  Stimulated secretion of pituitary hormones in ...   \n",
       "2047  11132196  Respiratory related evoked responses to gradua...   \n",
       "\n",
       "                               Journal  Date  \n",
       "2043  Annals of biomedical engineering  2000  \n",
       "2044  Annals of biomedical engineering  2000  \n",
       "2045  Annals of biomedical engineering  2000  \n",
       "2046  Annals of biomedical engineering  2000  \n",
       "2047  Annals of biomedical engineering  2000  "
      ],
      "text/html": [
       "<div>\n",
       "<style scoped>\n",
       "    .dataframe tbody tr th:only-of-type {\n",
       "        vertical-align: middle;\n",
       "    }\n",
       "\n",
       "    .dataframe tbody tr th {\n",
       "        vertical-align: top;\n",
       "    }\n",
       "\n",
       "    .dataframe thead th {\n",
       "        text-align: right;\n",
       "    }\n",
       "</style>\n",
       "<table border=\"1\" class=\"dataframe\">\n",
       "  <thead>\n",
       "    <tr style=\"text-align: right;\">\n",
       "      <th></th>\n",
       "      <th>Pubmed ID</th>\n",
       "      <th>Title</th>\n",
       "      <th>Journal</th>\n",
       "      <th>Date</th>\n",
       "    </tr>\n",
       "  </thead>\n",
       "  <tbody>\n",
       "    <tr>\n",
       "      <th>2043</th>\n",
       "      <td>11132200</td>\n",
       "      <td>Importance of temperature and humidity in the ...</td>\n",
       "      <td>Annals of biomedical engineering</td>\n",
       "      <td>2000</td>\n",
       "    </tr>\n",
       "    <tr>\n",
       "      <th>2044</th>\n",
       "      <td>11132199</td>\n",
       "      <td>Biphasic material properties of lytic bone met...</td>\n",
       "      <td>Annals of biomedical engineering</td>\n",
       "      <td>2000</td>\n",
       "    </tr>\n",
       "    <tr>\n",
       "      <th>2045</th>\n",
       "      <td>11132198</td>\n",
       "      <td>Computer- and robot-assisted total knee replac...</td>\n",
       "      <td>Annals of biomedical engineering</td>\n",
       "      <td>2000</td>\n",
       "    </tr>\n",
       "    <tr>\n",
       "      <th>2046</th>\n",
       "      <td>11132197</td>\n",
       "      <td>Stimulated secretion of pituitary hormones in ...</td>\n",
       "      <td>Annals of biomedical engineering</td>\n",
       "      <td>2000</td>\n",
       "    </tr>\n",
       "    <tr>\n",
       "      <th>2047</th>\n",
       "      <td>11132196</td>\n",
       "      <td>Respiratory related evoked responses to gradua...</td>\n",
       "      <td>Annals of biomedical engineering</td>\n",
       "      <td>2000</td>\n",
       "    </tr>\n",
       "  </tbody>\n",
       "</table>\n",
       "</div>"
      ]
     },
     "metadata": {},
     "execution_count": 11
    }
   ],
   "metadata": {}
  },
  {
   "cell_type": "markdown",
   "source": [],
   "metadata": {}
  }
 ],
 "metadata": {
  "colab": {
   "name": "PubMed API Data Analysis.ipynb",
   "provenance": []
  },
  "interpreter": {
   "hash": "85639e5b63dfa1ac1acc0bd453e553704aa1560076a94c22be8f259c0b455d74"
  },
  "kernelspec": {
   "display_name": "Python 3.8.5 64-bit ('base': conda)",
   "name": "python3"
  },
  "language_info": {
   "name": "python",
   "version": ""
  }
 },
 "nbformat": 4,
 "nbformat_minor": 4
}