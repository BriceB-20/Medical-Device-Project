{
 "metadata": {
  "language_info": {
   "codemirror_mode": {
    "name": "ipython",
    "version": 3
   },
   "file_extension": ".py",
   "mimetype": "text/x-python",
   "name": "python",
   "nbconvert_exporter": "python",
   "pygments_lexer": "ipython3",
   "version": "3.8.5"
  },
  "orig_nbformat": 4,
  "kernelspec": {
   "name": "python3",
   "display_name": "Python 3.8.5 64-bit ('base': conda)"
  },
  "interpreter": {
   "hash": "85639e5b63dfa1ac1acc0bd453e553704aa1560076a94c22be8f259c0b455d74"
  }
 },
 "nbformat": 4,
 "nbformat_minor": 2,
 "cells": [
  {
   "cell_type": "code",
   "execution_count": 86,
   "metadata": {},
   "outputs": [],
   "source": [
    "import pandas as pd\n",
    "import string\n",
    "import json\n",
    "import glob\n",
    "import re\n",
    "from sklearn.feature_extraction.text import TfidfVectorizer\n",
    "from sklearn.cluster import KMeans\n",
    "from sklearn.metrics import adjusted_rand_score\n",
    "from nltk.corpus import stopwords"
   ]
  },
  {
   "cell_type": "code",
   "execution_count": 8,
   "metadata": {},
   "outputs": [
    {
     "output_type": "stream",
     "name": "stderr",
     "text": [
      "[nltk_data] Downloading package stopwords to\n[nltk_data]     C:\\Users\\Briceno\\AppData\\Roaming\\nltk_data...\n[nltk_data]   Unzipping corpora\\stopwords.zip.\n"
     ]
    },
    {
     "output_type": "execute_result",
     "data": {
      "text/plain": [
       "True"
      ]
     },
     "metadata": {},
     "execution_count": 8
    }
   ],
   "source": [
    "# import nltk\n",
    "# nltk.download('stopwords')"
   ]
  },
  {
   "cell_type": "code",
   "execution_count": 2,
   "metadata": {},
   "outputs": [],
   "source": [
    "def load_data(file):\n",
    "    with open (file, \"r\", encoding=\"utf-8\") as f:\n",
    "        data = json.load(f)\n",
    "    return (data)\n",
    "\n",
    "def write_data(file, data):\n",
    "    with open (file, \"w\", encoding=\"utf-8\") as f:\n",
    "        json.dump(data, f, indent=4)"
   ]
  },
  {
   "cell_type": "code",
   "execution_count": 11,
   "metadata": {},
   "outputs": [],
   "source": [
    "# Import data extracted from PubMed\n",
    "mesh_articles = pd.read_json('JSON Data/biomed_pubmed_data.json')[['Pubmed ID', 'Title', 'Abstract', 'Date']].dropna()\n",
    "med_dev_articles = pd.read_json('JSON Data\\device_pubmed_data.json')[['Pubmed ID', 'Title', 'Abstract', 'Date']].dropna()\n",
    "\n",
    "# Combine datasets and remove duplicates\n",
    "articles = med_dev_articles.append(mesh_articles).drop_duplicates()"
   ]
  },
  {
   "source": [
    "# TF-IDF"
   ],
   "cell_type": "markdown",
   "metadata": {}
  },
  {
   "cell_type": "code",
   "execution_count": 82,
   "metadata": {},
   "outputs": [],
   "source": [
    "def clean_docs(doc):\n",
    "    '''Accepts an individual string (not a list of string). Removes stopwords and does other cleaning'''\n",
    "    stops = stopwords.words('english')\n",
    "    \n",
    "    doc = doc.lower()\n",
    "    doc = doc.translate(str.maketrans(\"\", \"\", r'!\"#$%&\\'()*+,./:;<=>?@[\\\\]^_`{|}~')) # remove punctuation\n",
    "    doc = doc.translate(str.maketrans(\"-\", \" \"))  # replace dashes with spaces\n",
    "    doc = re.sub(r'([ ]{2,})', ' ', doc)  # remove extra white spaces\n",
    "    doc = [word for word in doc.split() if word not in stops] # remove stopwords\n",
    "    doc = \" \".join(doc)\n",
    "    doc = re.sub(r'[\\d]', '', doc) # remove digits\n",
    "    doc = re.sub(r'([ ]{2,})', ' ', doc)\n",
    "    doc = re.sub(r'[\\s]$', '', doc) # remove whitespace at end of string\n",
    "    return doc"
   ]
  },
  {
   "cell_type": "code",
   "execution_count": 83,
   "metadata": {},
   "outputs": [],
   "source": [
    "# Cleaning method seems to break words that are hyphenateddue to a line break. ex: \"units integral requirements delive ry direct patient\"\n",
    "abst = [clean_docs(i) for i in list(articles['Abstract'])]"
   ]
  },
  {
   "cell_type": "code",
   "execution_count": 88,
   "metadata": {},
   "outputs": [],
   "source": [
    "# Documentation for vectorizer: https://scikit-learn.org/stable/modules/generated/sklearn.feature_extraction.text.TfidfVectorizer.html\n",
    "vectorizer = TfidfVectorizer(   max_features=100,\n",
    "                                max_df=0.8,  # max document frequency. Words in more the x% will be ignored\n",
    "                                min_df=5, # min document frequency. Will ignore words that occur less than x times in the corpus\n",
    "                                ngram_range = (1,3),  # allows x-grams to y-grams to be captured. E.g. unigrams to trigrams\n",
    "                                stop_words = \"english\"  # will catch stopwords specific to sklearn\n",
    "                                )"
   ]
  },
  {
   "cell_type": "code",
   "execution_count": 96,
   "metadata": {},
   "outputs": [],
   "source": [
    "# Vectorize and isolate keywords from documents\n",
    "vectors = vectorizer.fit_transform(abst)\n",
    "feature_names = vectorizer.get_feature_names()\n",
    "\n",
    "dense = vectors.todense()\n",
    "denselist = dense.tolist()\n",
    "\n",
    "'''\n",
    "Denselist is a collection of all documents. But each document in the denselist is not a representation of the words in the document. Instead, it is an index of the feature_names with each word represented with its corresponding tf-idf score. In other words, it is a list of x key words and the tf-idf score for each word in the feature_names for a given document. If the keyword does not appear in the document, it has a score of 0. If, however, it does, that keyword has a tf-idf score which means it is found within the document.\n",
    "'''\n",
    "\n",
    "all_keywords = []\n",
    "for description in denselist:  # Find features (keywords) that have been found in each document\n",
    "    keywords = []\n",
    "    for i, word in enumerate(description):\n",
    "        if word > 0:\n",
    "            keywords.append(feature_names[i])\n",
    "    all_keywords.append(keywords)"
   ]
  },
  {
   "source": [
    "The 9th value in this denselist document is the tf-idf value for the 9th word in the feature_names."
   ],
   "cell_type": "markdown",
   "metadata": {}
  },
  {
   "cell_type": "code",
   "execution_count": 109,
   "metadata": {},
   "outputs": [
    {
     "output_type": "execute_result",
     "data": {
      "text/plain": [
       "[0.0, 0.0, 0.0, 0.0, 0.0, 0.0, 0.0, 0.0, 0.09839929223995666, 0.0]"
      ]
     },
     "metadata": {},
     "execution_count": 109
    }
   ],
   "source": [
    "denselist[0][0:10]"
   ]
  },
  {
   "cell_type": "code",
   "execution_count": 110,
   "metadata": {},
   "outputs": [
    {
     "output_type": "execute_result",
     "data": {
      "text/plain": [
       "['administration',\n",
       " 'analysis',\n",
       " 'application',\n",
       " 'applications',\n",
       " 'approach',\n",
       " 'article',\n",
       " 'associated',\n",
       " 'available',\n",
       " 'based',\n",
       " 'biomedical']"
      ]
     },
     "metadata": {},
     "execution_count": 110
    }
   ],
   "source": [
    "feature_names[0:10]"
   ]
  },
  {
   "cell_type": "code",
   "execution_count": null,
   "metadata": {},
   "outputs": [],
   "source": [
    "# K-Means Clustering"
   ]
  }
 ]
}