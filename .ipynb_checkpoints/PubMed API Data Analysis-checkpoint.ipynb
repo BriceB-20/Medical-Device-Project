{
  "nbformat": 4,
  "nbformat_minor": 0,
  "metadata": {
    "kernelspec": {
      "display_name": "Python 3",
      "language": "python",
      "name": "python3"
    },
    "language_info": {
      "codemirror_mode": {
        "name": "ipython",
        "version": 3
      },
      "file_extension": ".py",
      "mimetype": "text/x-python",
      "name": "python",
      "nbconvert_exporter": "python",
      "pygments_lexer": "ipython3",
      "version": "3.8.3"
    },
    "colab": {
      "name": "PubMed API Data Analysis.ipynb",
      "provenance": []
    }
  },
  "cells": [
    {
      "cell_type": "code",
      "metadata": {
        "id": "a-5Jn7QOhBFO",
        "colab_type": "code",
        "colab": {}
      },
      "source": [
        "import numpy as np\n",
        "import pandas as pd\n",
        "import openpyxl as xl\n",
        "import re\n",
        "from matplotlib import pyplot as plt"
      ],
      "execution_count": 1,
      "outputs": []
    },
    {
      "cell_type": "code",
      "metadata": {
        "id": "fl32TMhyhBFS",
        "colab_type": "code",
        "colab": {}
      },
      "source": [
        "# Extract data on number of publication per year\n",
        "data = {}\n",
        "wb = xl.load_workbook(filename=r\"C:\\Users\\Briceno\\Desktop\\pubmed_API_output.xlsx\")\n",
        "data_sheet = wb[\"Data\"]\n",
        "\n",
        "count = 2\n",
        "for i in range(2, data_sheet.max_row):\n",
        "    pos = \"D{}\".format(str(i))\n",
        "    cell = data_sheet[pos]\n",
        "\n",
        "    if re.match(r\"\\d{5}\", cell.value) is not None:  # Eliminates aberrant years. E.g. '20042005'\n",
        "        continue\n",
        "    if int(cell.value) in data:\n",
        "        data[int(cell.value)] += 1\n",
        "    else:\n",
        "        data[int(cell.value)] = 1\n",
        "\n",
        "wb.close()"
      ],
      "execution_count": null,
      "outputs": []
    },
    {
      "cell_type": "code",
      "metadata": {
        "id": "blYrokh4hBFV",
        "colab_type": "code",
        "colab": {}
      },
      "source": [
        "# Create data frame in pandas\n",
        "data = dict(sorted(data.items()))\n",
        "data_frame = pd.DataFrame.from_dict(data=data, orient=\"index\")\n",
        "data_frame = data_frame.drop(index=2020)  # Remove 2020 from data"
      ],
      "execution_count": null,
      "outputs": []
    },
    {
      "cell_type": "code",
      "metadata": {
        "id": "R5-jT3dDhBFY",
        "colab_type": "code",
        "colab": {},
        "outputId": "99535c7c-dcde-4ea9-c1bc-df3a3afd13b4"
      },
      "source": [
        "plt.plot(data_frame)\n",
        "plt.title(\"Number of Articles per Year (1955-2019)\")\n",
        "plt.show()"
      ],
      "execution_count": null,
      "outputs": [
        {
          "output_type": "display_data",
          "data": {
            "image/png": "[encoded data removed]",
            "text/plain": [
              "<Figure size 432x288 with 1 Axes>"
            ]
          },
          "metadata": {
            "tags": [],
            "needs_background": "light"
          }
        }
      ]
    },
    {
      "cell_type": "code",
      "metadata": {
        "id": "O0-E1QINhBFb",
        "colab_type": "code",
        "colab": {}
      },
      "source": [
        "dict = {\"Test1\": [1,2,3,4],\n",
        "        \"Test2\": [1,2,3,4]}\n",
        "df = pd.DataFrame.from_dict(dict)"
      ],
      "execution_count": 3,
      "outputs": []
    },
    {
      "cell_type": "code",
      "metadata": {
        "id": "lZRrbRuti0kT",
        "colab_type": "code",
        "colab": {
          "base_uri": "https://localhost:8080/",
          "height": 166
        },
        "outputId": "58a1f259-2bd0-4d74-eabe-9efa048099ff"
      },
      "source": [
        "df"
      ],
      "execution_count": 4,
      "outputs": [
        {
          "output_type": "execute_result",
          "data": {
            "text/html": [
              "<div>\n",
              "<style scoped>\n",
              "    .dataframe tbody tr th:only-of-type {\n",
              "        vertical-align: middle;\n",
              "    }\n",
              "\n",
              "    .dataframe tbody tr th {\n",
              "        vertical-align: top;\n",
              "    }\n",
              "\n",
              "    .dataframe thead th {\n",
              "        text-align: right;\n",
              "    }\n",
              "</style>\n",
              "<table border=\"1\" class=\"dataframe\">\n",
              "  <thead>\n",
              "    <tr style=\"text-align: right;\">\n",
              "      <th></th>\n",
              "      <th>Test1</th>\n",
              "      <th>Test2</th>\n",
              "    </tr>\n",
              "  </thead>\n",
              "  <tbody>\n",
              "    <tr>\n",
              "      <th>0</th>\n",
              "      <td>1</td>\n",
              "      <td>1</td>\n",
              "    </tr>\n",
              "    <tr>\n",
              "      <th>1</th>\n",
              "      <td>2</td>\n",
              "      <td>2</td>\n",
              "    </tr>\n",
              "    <tr>\n",
              "      <th>2</th>\n",
              "      <td>3</td>\n",
              "      <td>3</td>\n",
              "    </tr>\n",
              "    <tr>\n",
              "      <th>3</th>\n",
              "      <td>4</td>\n",
              "      <td>4</td>\n",
              "    </tr>\n",
              "  </tbody>\n",
              "</table>\n",
              "</div>"
            ],
            "text/plain": [
              "   Test1  Test2\n",
              "0      1      1\n",
              "1      2      2\n",
              "2      3      3\n",
              "3      4      4"
            ]
          },
          "metadata": {
            "tags": []
          },
          "execution_count": 4
        }
      ]
    }
  ]
}