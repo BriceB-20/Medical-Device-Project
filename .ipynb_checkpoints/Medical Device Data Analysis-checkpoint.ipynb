{
 "cells": [
  {
   "cell_type": "markdown",
   "metadata": {},
   "source": [
    "*** Work in Progress ***\n",
    "\n",
    "Pubmed Query Builder: https://pubmed.ncbi.nlm.nih.gov/advanced/\n",
    "\n",
    "### Notes\n",
    "* Dates stored in __repr__ format in JSON\n",
    "* 000 = Code for unobtainable PMUID\n",
    "\n",
    "### MeSH Terms\n",
    "* Biomedical Engineering \n",
    "* Biomedical Technology\n",
    "* Equipment Safety\n",
    "* Equipment Design\n",
    "* Prostheses and Implants\n",
    "\n",
    "### Querys\n",
    "((\"Equipment and Supplies\"[MeSH Terms] OR \"Equipment Design\"[MeSH Terms] OR \"Equipment Safety\"[MeSH Terms] OR \"Biomedical Technology\"[MeSH Terms] OR \"Biomedical Engineering\"[MeSH Terms]) AND 1850/01/01:1997/12/31[Date - Publication]) AND (English[Language])\n",
    "\n",
    "(((medical device[Title/Abstract]) OR (medical devices[Title/Abstract])) AND (english[Language])) AND ((\"1850\"[Date - Publication] : \"1997\"[Date - Publication]))"
   ]
  },
  {
   "cell_type": "code",
   "execution_count": null,
   "metadata": {},
   "outputs": [],
   "source": [
    "'''\n",
    "Future Work:\n",
    "Use NLP for tokenization?'''"
   ]
  },
  {
   "cell_type": "code",
   "execution_count": 82,
   "metadata": {
    "colab": {},
    "colab_type": "code",
    "id": "a-5Jn7QOhBFO"
   },
   "outputs": [],
   "source": [
    "import pandas as pd\n",
    "import json\n",
    "import datetime\n",
    "from collections import Counter  \n",
    "from matplotlib import pyplot as plt\n",
    "from matplotlib.animation import FuncAnimation\n",
    "from pymed import PubMed"
   ]
  },
  {
   "cell_type": "markdown",
   "metadata": {},
   "source": [
    "# Retrieve Data"
   ]
  },
  {
   "cell_type": "code",
   "execution_count": 2,
   "metadata": {},
   "outputs": [],
   "source": [
    "# Uses Pymed to get results for the desired query\n",
    "def search(query_string, pubmed_module, max_results=2000):\n",
    "    results = pubmed_module.query(query_string, max_results=max_results)\n",
    "    return results"
   ]
  },
  {
   "cell_type": "code",
   "execution_count": 78,
   "metadata": {},
   "outputs": [],
   "source": [
    "# Gets relevant data from Pymed iterable and creates a dictionary\n",
    "def pubmed_todict(pubmed_iterable):\n",
    "    new_dict = {\"Result Number\": [], \"Pubmed ID\": [], \"Title\": [], \"Journal\": [], \"Authors\": [], \"Date\": []}\n",
    "    \n",
    "    # Assemble dictionary\n",
    "    for i, article in enumerate(pubmed_iterable):\n",
    "        new_dict[\"Result Number\"].append(i)\n",
    "        if \"\\n\" in article.pubmed_id:  # Deals with parsing issue for article PMUID\n",
    "            new_dict[\"Pubmed ID\"].append(\"000\")\n",
    "        else:\n",
    "            new_dict[\"Pubmed ID\"].append(article.pubmed_id)   \n",
    "        new_dict[\"Title\"].append(article.title)\n",
    "        try:  # Deals with book (rather than articles) in the database\n",
    "            new_dict[\"Journal\"].append(article.journal)\n",
    "        except AttributeError:\n",
    "            new_dict[\"Journal\"].append(\"Book\") \n",
    "        new_dict[\"Authors\"].append(article.authors)\n",
    "        if type(article.publication_date) == datetime.date:  # Standardizes data - pymed returns some years as int\n",
    "            new_dict[\"Date\"].append(article.publication_date) \n",
    "        else:\n",
    "            new_dict[\"Date\"].append(datetime.datetime.strptime(str(article.publication_date), \"%Y\"))\n",
    "        \n",
    "    # Cleans author data\n",
    "    clean_author_list_by_paper = []\n",
    "    for paper_author_list in new_dict[\"Authors\"]:\n",
    "        if paper_author_list == []:\n",
    "            clean_author_list_by_paper.append([{\"name\": None, \"affiliation\": None}])\n",
    "        else:\n",
    "            author_list_by_paper = []\n",
    "            for author in paper_author_list:\n",
    "                if author[\"lastname\"] != None or author[\"initials\"] != None:\n",
    "                    try:\n",
    "                        author_dict = {\"name\": \"{} {}\".format(author[\"lastname\"], author[\"initials\"]),\n",
    "                                \"affiliation\": author[\"affiliation\"]}\n",
    "                    except KeyError:\n",
    "                        author_dict = {\"name\": \"{} {}\".format(author[\"lastname\"], author[\"initials\"]),\n",
    "                                    \"affiliation\": None}\n",
    "                    author_list_by_paper.append(author_dict)\n",
    "            clean_author_list_by_paper.append(author_list_by_paper)\n",
    "    \n",
    "    new_dict[\"Authors\"] = clean_author_list_by_paper\n",
    "    \n",
    "    return new_dict"
   ]
  },
  {
   "cell_type": "code",
   "execution_count": 7,
   "metadata": {},
   "outputs": [],
   "source": [
    "# Avoids serialization error with datetime in JSON dump\n",
    "# See https://stackoverflow.com/questions/54557568/typeerror-object-of-type-date-is-not-json-serializable\n",
    "def datetime_converter(object):\n",
    "    if isinstance(object, datetime.date):\n",
    "        return object.__repr__()"
   ]
  },
  {
   "cell_type": "code",
   "execution_count": 8,
   "metadata": {},
   "outputs": [],
   "source": [
    "def search_and_dump(query_string, max_results, file_name):\n",
    "    pubmed = PubMed(tool=\"Medical Device Author Network Analysis\", email=\"bowrey@umd.edu\")\n",
    "    results = search(query_string=query_string, pubmed_module=pubmed, max_results=max_results)\n",
    "    new_dict = pubmed_todict(pubmed_iterable=results)\n",
    "    with open(file_name, \"w\") as f:\n",
    "        # Default argument takes function that is called when JSON ecounters object it can't convert\n",
    "        json.dump(new_dict, f, indent=4, default=datetime_converter)\n",
    "        print(\"Search Completed. File dumped to JSON\")"
   ]
  },
  {
   "cell_type": "code",
   "execution_count": 79,
   "metadata": {},
   "outputs": [
    {
     "name": "stdout",
     "output_type": "stream",
     "text": [
      "Search Completed. File dumped to JSON\n"
     ]
    }
   ],
   "source": [
    "# Searches for all items with \"medical device(s)\" in the title or abstract\n",
    "search_and_dump(query_string='''(((medical device[Title/Abstract]) OR (medical devices[Title/Abstract])) AND (english[Language])) \n",
    "                                AND ((\"1850\"[Date - Publication] : \"1997\"[Date - Publication]))''',\n",
    "               max_results=2000, file_name=\"device_pubmed_data.json\")"
   ]
  },
  {
   "cell_type": "markdown",
   "metadata": {},
   "source": [
    "# Publication Analysis"
   ]
  },
  {
   "cell_type": "code",
   "execution_count": 40,
   "metadata": {},
   "outputs": [],
   "source": [
    "#TODO: Create Object for each search\n",
    "def create_df(file_path):\n",
    "    with open(file_path, \"r\") as f:\n",
    "        full_dict = json.load(f)\n",
    "    \n",
    "    slim_dict = {key:value for (key, value) in full_dict.items() if key in [\"Pubmed ID\", \"Title\", \"Journal\", \"Date\"]}\n",
    "    df = pd.DataFrame.from_dict(slim_dict)\n",
    "    # df = df[df[\"Pubmed ID\"] != \"000\"]  # Removes data with parsing error\n",
    "    df[\"Date\"] = df[\"Date\"].apply(lambda x : eval(x).year)\n",
    "    \n",
    "    return df"
   ]
  },
  {
   "cell_type": "code",
   "execution_count": 41,
   "metadata": {},
   "outputs": [
    {
     "data": {
      "text/html": [
       "<div>\n",
       "<style scoped>\n",
       "    .dataframe tbody tr th:only-of-type {\n",
       "        vertical-align: middle;\n",
       "    }\n",
       "\n",
       "    .dataframe tbody tr th {\n",
       "        vertical-align: top;\n",
       "    }\n",
       "\n",
       "    .dataframe thead th {\n",
       "        text-align: right;\n",
       "    }\n",
       "</style>\n",
       "<table border=\"1\" class=\"dataframe\">\n",
       "  <thead>\n",
       "    <tr style=\"text-align: right;\">\n",
       "      <th></th>\n",
       "      <th>Pubmed ID</th>\n",
       "      <th>Title</th>\n",
       "      <th>Journal</th>\n",
       "      <th>Date</th>\n",
       "    </tr>\n",
       "  </thead>\n",
       "  <tbody>\n",
       "    <tr>\n",
       "      <th>0</th>\n",
       "      <td>000</td>\n",
       "      <td>Conditioning fluid influences on the surface p...</td>\n",
       "      <td>Journal of materials science. Materials in med...</td>\n",
       "      <td>2004</td>\n",
       "    </tr>\n",
       "    <tr>\n",
       "      <th>1</th>\n",
       "      <td>000</td>\n",
       "      <td>Monocyte-biomaterial interaction inducing phen...</td>\n",
       "      <td>Journal of materials science. Materials in med...</td>\n",
       "      <td>2004</td>\n",
       "    </tr>\n",
       "    <tr>\n",
       "      <th>2</th>\n",
       "      <td>12025581</td>\n",
       "      <td>American Nurses Association. Position statemen...</td>\n",
       "      <td>The Oklahoma nurse</td>\n",
       "      <td>2002</td>\n",
       "    </tr>\n",
       "    <tr>\n",
       "      <th>3</th>\n",
       "      <td>11364915</td>\n",
       "      <td>FDA reform signed into law. Food and Drug Admi...</td>\n",
       "      <td>AIDS treatment news</td>\n",
       "      <td>2001</td>\n",
       "    </tr>\n",
       "    <tr>\n",
       "      <th>4</th>\n",
       "      <td>11364819</td>\n",
       "      <td>FDA reform sails through Congress. Food and Dr...</td>\n",
       "      <td>GMHC treatment issues : the Gay Men's Health C...</td>\n",
       "      <td>2001</td>\n",
       "    </tr>\n",
       "    <tr>\n",
       "      <th>5</th>\n",
       "      <td>10179107</td>\n",
       "      <td>A study on the current situation in the biomed...</td>\n",
       "      <td>Journal of clinical engineering</td>\n",
       "      <td>1999</td>\n",
       "    </tr>\n",
       "    <tr>\n",
       "      <th>6</th>\n",
       "      <td>10174607</td>\n",
       "      <td>Development of a new Clinical Engineering Mana...</td>\n",
       "      <td>Journal of clinical engineering</td>\n",
       "      <td>1999</td>\n",
       "    </tr>\n",
       "    <tr>\n",
       "      <th>7</th>\n",
       "      <td>9696163</td>\n",
       "      <td>Technical standards for medical devices. Assis...</td>\n",
       "      <td>Technology and health care : official journal ...</td>\n",
       "      <td>1998</td>\n",
       "    </tr>\n",
       "    <tr>\n",
       "      <th>8</th>\n",
       "      <td>9526311</td>\n",
       "      <td>Reuse of disposables: is it worth the risk?</td>\n",
       "      <td>Canadian operating room nursing journal</td>\n",
       "      <td>1998</td>\n",
       "    </tr>\n",
       "    <tr>\n",
       "      <th>9</th>\n",
       "      <td>9513003</td>\n",
       "      <td>Why certification of medical software would be...</td>\n",
       "      <td>International journal of medical informatics</td>\n",
       "      <td>1998</td>\n",
       "    </tr>\n",
       "    <tr>\n",
       "      <th>10</th>\n",
       "      <td>9503691</td>\n",
       "      <td>Early experience of the European Medical Devic...</td>\n",
       "      <td>Australasian physical &amp; engineering sciences i...</td>\n",
       "      <td>1998</td>\n",
       "    </tr>\n",
       "    <tr>\n",
       "      <th>11</th>\n",
       "      <td>9476122</td>\n",
       "      <td>Coating of human decay accelerating factor (hD...</td>\n",
       "      <td>Immunopharmacology</td>\n",
       "      <td>1998</td>\n",
       "    </tr>\n",
       "    <tr>\n",
       "      <th>12</th>\n",
       "      <td>9441921</td>\n",
       "      <td>Health risk assessment practices in the U.S. F...</td>\n",
       "      <td>Regulatory toxicology and pharmacology : RTP</td>\n",
       "      <td>1998</td>\n",
       "    </tr>\n",
       "    <tr>\n",
       "      <th>13</th>\n",
       "      <td>9437486</td>\n",
       "      <td>Natural bioburden levels detected on rigid lum...</td>\n",
       "      <td>American journal of infection control</td>\n",
       "      <td>1998</td>\n",
       "    </tr>\n",
       "    <tr>\n",
       "      <th>14</th>\n",
       "      <td>9423977</td>\n",
       "      <td>Plasma hemoglobin measurement techniques for t...</td>\n",
       "      <td>Artificial organs</td>\n",
       "      <td>1998</td>\n",
       "    </tr>\n",
       "    <tr>\n",
       "      <th>15</th>\n",
       "      <td>9416472</td>\n",
       "      <td>Medical devices and the year 2000 problem.</td>\n",
       "      <td>Health devices</td>\n",
       "      <td>1998</td>\n",
       "    </tr>\n",
       "    <tr>\n",
       "      <th>16</th>\n",
       "      <td>9382409</td>\n",
       "      <td>Summary recommendations for responsible monito...</td>\n",
       "      <td>Annals of internal medicine</td>\n",
       "      <td>1998</td>\n",
       "    </tr>\n",
       "    <tr>\n",
       "      <th>17</th>\n",
       "      <td>9385957</td>\n",
       "      <td>From cadavers to implants: silicon tissue assa...</td>\n",
       "      <td>Plastic and reconstructive surgery</td>\n",
       "      <td>1997</td>\n",
       "    </tr>\n",
       "    <tr>\n",
       "      <th>18</th>\n",
       "      <td>9404556</td>\n",
       "      <td>Reduction of latex-allergen content in Swedish...</td>\n",
       "      <td>Allergy</td>\n",
       "      <td>1997</td>\n",
       "    </tr>\n",
       "    <tr>\n",
       "      <th>19</th>\n",
       "      <td>9397042</td>\n",
       "      <td>\"Single use only\" labelling of medical devices...</td>\n",
       "      <td>The Medical journal of Australia</td>\n",
       "      <td>1997</td>\n",
       "    </tr>\n",
       "  </tbody>\n",
       "</table>\n",
       "</div>"
      ],
      "text/plain": [
       "   Pubmed ID                                              Title  \\\n",
       "0        000  Conditioning fluid influences on the surface p...   \n",
       "1        000  Monocyte-biomaterial interaction inducing phen...   \n",
       "2   12025581  American Nurses Association. Position statemen...   \n",
       "3   11364915  FDA reform signed into law. Food and Drug Admi...   \n",
       "4   11364819  FDA reform sails through Congress. Food and Dr...   \n",
       "5   10179107  A study on the current situation in the biomed...   \n",
       "6   10174607  Development of a new Clinical Engineering Mana...   \n",
       "7    9696163  Technical standards for medical devices. Assis...   \n",
       "8    9526311        Reuse of disposables: is it worth the risk?   \n",
       "9    9513003  Why certification of medical software would be...   \n",
       "10   9503691  Early experience of the European Medical Devic...   \n",
       "11   9476122  Coating of human decay accelerating factor (hD...   \n",
       "12   9441921  Health risk assessment practices in the U.S. F...   \n",
       "13   9437486  Natural bioburden levels detected on rigid lum...   \n",
       "14   9423977  Plasma hemoglobin measurement techniques for t...   \n",
       "15   9416472         Medical devices and the year 2000 problem.   \n",
       "16   9382409  Summary recommendations for responsible monito...   \n",
       "17   9385957  From cadavers to implants: silicon tissue assa...   \n",
       "18   9404556  Reduction of latex-allergen content in Swedish...   \n",
       "19   9397042  \"Single use only\" labelling of medical devices...   \n",
       "\n",
       "                                              Journal  Date  \n",
       "0   Journal of materials science. Materials in med...  2004  \n",
       "1   Journal of materials science. Materials in med...  2004  \n",
       "2                                  The Oklahoma nurse  2002  \n",
       "3                                 AIDS treatment news  2001  \n",
       "4   GMHC treatment issues : the Gay Men's Health C...  2001  \n",
       "5                     Journal of clinical engineering  1999  \n",
       "6                     Journal of clinical engineering  1999  \n",
       "7   Technology and health care : official journal ...  1998  \n",
       "8             Canadian operating room nursing journal  1998  \n",
       "9        International journal of medical informatics  1998  \n",
       "10  Australasian physical & engineering sciences i...  1998  \n",
       "11                                 Immunopharmacology  1998  \n",
       "12       Regulatory toxicology and pharmacology : RTP  1998  \n",
       "13              American journal of infection control  1998  \n",
       "14                                  Artificial organs  1998  \n",
       "15                                     Health devices  1998  \n",
       "16                        Annals of internal medicine  1998  \n",
       "17                 Plastic and reconstructive surgery  1997  \n",
       "18                                            Allergy  1997  \n",
       "19                   The Medical journal of Australia  1997  "
      ]
     },
     "execution_count": 41,
     "metadata": {},
     "output_type": "execute_result"
    }
   ],
   "source": [
    "device_df = create_df(\"device_pubmed_data.json\")\n",
    "device_df.head(20)"
   ]
  },
  {
   "cell_type": "markdown",
   "metadata": {},
   "source": [
    "### Cleaning\n",
    "All articles with abnormal years (e.g. years outside of the range that was input to the API) are actually from 1997. Therefore, I correct all of these values accordingly."
   ]
  },
  {
   "cell_type": "code",
   "execution_count": 42,
   "metadata": {},
   "outputs": [],
   "source": [
    "def correct_years(df, cutoff_year):\n",
    "    for index in df.loc[df[\"Date\"] > cutoff_year].index:\n",
    "        df.loc[index, \"Date\"] = cutoff_year\n",
    "    \n",
    "    return df"
   ]
  },
  {
   "cell_type": "code",
   "execution_count": 43,
   "metadata": {},
   "outputs": [
    {
     "data": {
      "text/html": [
       "<div>\n",
       "<style scoped>\n",
       "    .dataframe tbody tr th:only-of-type {\n",
       "        vertical-align: middle;\n",
       "    }\n",
       "\n",
       "    .dataframe tbody tr th {\n",
       "        vertical-align: top;\n",
       "    }\n",
       "\n",
       "    .dataframe thead th {\n",
       "        text-align: right;\n",
       "    }\n",
       "</style>\n",
       "<table border=\"1\" class=\"dataframe\">\n",
       "  <thead>\n",
       "    <tr style=\"text-align: right;\">\n",
       "      <th></th>\n",
       "      <th>Pubmed ID</th>\n",
       "      <th>Title</th>\n",
       "      <th>Journal</th>\n",
       "      <th>Date</th>\n",
       "    </tr>\n",
       "  </thead>\n",
       "  <tbody>\n",
       "    <tr>\n",
       "      <th>0</th>\n",
       "      <td>000</td>\n",
       "      <td>Conditioning fluid influences on the surface p...</td>\n",
       "      <td>Journal of materials science. Materials in med...</td>\n",
       "      <td>1997</td>\n",
       "    </tr>\n",
       "    <tr>\n",
       "      <th>1</th>\n",
       "      <td>000</td>\n",
       "      <td>Monocyte-biomaterial interaction inducing phen...</td>\n",
       "      <td>Journal of materials science. Materials in med...</td>\n",
       "      <td>1997</td>\n",
       "    </tr>\n",
       "    <tr>\n",
       "      <th>2</th>\n",
       "      <td>12025581</td>\n",
       "      <td>American Nurses Association. Position statemen...</td>\n",
       "      <td>The Oklahoma nurse</td>\n",
       "      <td>1997</td>\n",
       "    </tr>\n",
       "    <tr>\n",
       "      <th>3</th>\n",
       "      <td>11364915</td>\n",
       "      <td>FDA reform signed into law. Food and Drug Admi...</td>\n",
       "      <td>AIDS treatment news</td>\n",
       "      <td>1997</td>\n",
       "    </tr>\n",
       "    <tr>\n",
       "      <th>4</th>\n",
       "      <td>11364819</td>\n",
       "      <td>FDA reform sails through Congress. Food and Dr...</td>\n",
       "      <td>GMHC treatment issues : the Gay Men's Health C...</td>\n",
       "      <td>1997</td>\n",
       "    </tr>\n",
       "    <tr>\n",
       "      <th>5</th>\n",
       "      <td>10179107</td>\n",
       "      <td>A study on the current situation in the biomed...</td>\n",
       "      <td>Journal of clinical engineering</td>\n",
       "      <td>1997</td>\n",
       "    </tr>\n",
       "    <tr>\n",
       "      <th>6</th>\n",
       "      <td>10174607</td>\n",
       "      <td>Development of a new Clinical Engineering Mana...</td>\n",
       "      <td>Journal of clinical engineering</td>\n",
       "      <td>1997</td>\n",
       "    </tr>\n",
       "    <tr>\n",
       "      <th>7</th>\n",
       "      <td>9696163</td>\n",
       "      <td>Technical standards for medical devices. Assis...</td>\n",
       "      <td>Technology and health care : official journal ...</td>\n",
       "      <td>1997</td>\n",
       "    </tr>\n",
       "    <tr>\n",
       "      <th>8</th>\n",
       "      <td>9526311</td>\n",
       "      <td>Reuse of disposables: is it worth the risk?</td>\n",
       "      <td>Canadian operating room nursing journal</td>\n",
       "      <td>1997</td>\n",
       "    </tr>\n",
       "    <tr>\n",
       "      <th>9</th>\n",
       "      <td>9513003</td>\n",
       "      <td>Why certification of medical software would be...</td>\n",
       "      <td>International journal of medical informatics</td>\n",
       "      <td>1997</td>\n",
       "    </tr>\n",
       "    <tr>\n",
       "      <th>10</th>\n",
       "      <td>9503691</td>\n",
       "      <td>Early experience of the European Medical Devic...</td>\n",
       "      <td>Australasian physical &amp; engineering sciences i...</td>\n",
       "      <td>1997</td>\n",
       "    </tr>\n",
       "    <tr>\n",
       "      <th>11</th>\n",
       "      <td>9476122</td>\n",
       "      <td>Coating of human decay accelerating factor (hD...</td>\n",
       "      <td>Immunopharmacology</td>\n",
       "      <td>1997</td>\n",
       "    </tr>\n",
       "    <tr>\n",
       "      <th>12</th>\n",
       "      <td>9441921</td>\n",
       "      <td>Health risk assessment practices in the U.S. F...</td>\n",
       "      <td>Regulatory toxicology and pharmacology : RTP</td>\n",
       "      <td>1997</td>\n",
       "    </tr>\n",
       "    <tr>\n",
       "      <th>13</th>\n",
       "      <td>9437486</td>\n",
       "      <td>Natural bioburden levels detected on rigid lum...</td>\n",
       "      <td>American journal of infection control</td>\n",
       "      <td>1997</td>\n",
       "    </tr>\n",
       "    <tr>\n",
       "      <th>14</th>\n",
       "      <td>9423977</td>\n",
       "      <td>Plasma hemoglobin measurement techniques for t...</td>\n",
       "      <td>Artificial organs</td>\n",
       "      <td>1997</td>\n",
       "    </tr>\n",
       "    <tr>\n",
       "      <th>15</th>\n",
       "      <td>9416472</td>\n",
       "      <td>Medical devices and the year 2000 problem.</td>\n",
       "      <td>Health devices</td>\n",
       "      <td>1997</td>\n",
       "    </tr>\n",
       "    <tr>\n",
       "      <th>16</th>\n",
       "      <td>9382409</td>\n",
       "      <td>Summary recommendations for responsible monito...</td>\n",
       "      <td>Annals of internal medicine</td>\n",
       "      <td>1997</td>\n",
       "    </tr>\n",
       "    <tr>\n",
       "      <th>17</th>\n",
       "      <td>9385957</td>\n",
       "      <td>From cadavers to implants: silicon tissue assa...</td>\n",
       "      <td>Plastic and reconstructive surgery</td>\n",
       "      <td>1997</td>\n",
       "    </tr>\n",
       "    <tr>\n",
       "      <th>18</th>\n",
       "      <td>9404556</td>\n",
       "      <td>Reduction of latex-allergen content in Swedish...</td>\n",
       "      <td>Allergy</td>\n",
       "      <td>1997</td>\n",
       "    </tr>\n",
       "    <tr>\n",
       "      <th>19</th>\n",
       "      <td>9397042</td>\n",
       "      <td>\"Single use only\" labelling of medical devices...</td>\n",
       "      <td>The Medical journal of Australia</td>\n",
       "      <td>1997</td>\n",
       "    </tr>\n",
       "  </tbody>\n",
       "</table>\n",
       "</div>"
      ],
      "text/plain": [
       "   Pubmed ID                                              Title  \\\n",
       "0        000  Conditioning fluid influences on the surface p...   \n",
       "1        000  Monocyte-biomaterial interaction inducing phen...   \n",
       "2   12025581  American Nurses Association. Position statemen...   \n",
       "3   11364915  FDA reform signed into law. Food and Drug Admi...   \n",
       "4   11364819  FDA reform sails through Congress. Food and Dr...   \n",
       "5   10179107  A study on the current situation in the biomed...   \n",
       "6   10174607  Development of a new Clinical Engineering Mana...   \n",
       "7    9696163  Technical standards for medical devices. Assis...   \n",
       "8    9526311        Reuse of disposables: is it worth the risk?   \n",
       "9    9513003  Why certification of medical software would be...   \n",
       "10   9503691  Early experience of the European Medical Devic...   \n",
       "11   9476122  Coating of human decay accelerating factor (hD...   \n",
       "12   9441921  Health risk assessment practices in the U.S. F...   \n",
       "13   9437486  Natural bioburden levels detected on rigid lum...   \n",
       "14   9423977  Plasma hemoglobin measurement techniques for t...   \n",
       "15   9416472         Medical devices and the year 2000 problem.   \n",
       "16   9382409  Summary recommendations for responsible monito...   \n",
       "17   9385957  From cadavers to implants: silicon tissue assa...   \n",
       "18   9404556  Reduction of latex-allergen content in Swedish...   \n",
       "19   9397042  \"Single use only\" labelling of medical devices...   \n",
       "\n",
       "                                              Journal  Date  \n",
       "0   Journal of materials science. Materials in med...  1997  \n",
       "1   Journal of materials science. Materials in med...  1997  \n",
       "2                                  The Oklahoma nurse  1997  \n",
       "3                                 AIDS treatment news  1997  \n",
       "4   GMHC treatment issues : the Gay Men's Health C...  1997  \n",
       "5                     Journal of clinical engineering  1997  \n",
       "6                     Journal of clinical engineering  1997  \n",
       "7   Technology and health care : official journal ...  1997  \n",
       "8             Canadian operating room nursing journal  1997  \n",
       "9        International journal of medical informatics  1997  \n",
       "10  Australasian physical & engineering sciences i...  1997  \n",
       "11                                 Immunopharmacology  1997  \n",
       "12       Regulatory toxicology and pharmacology : RTP  1997  \n",
       "13              American journal of infection control  1997  \n",
       "14                                  Artificial organs  1997  \n",
       "15                                     Health devices  1997  \n",
       "16                        Annals of internal medicine  1997  \n",
       "17                 Plastic and reconstructive surgery  1997  \n",
       "18                                            Allergy  1997  \n",
       "19                   The Medical journal of Australia  1997  "
      ]
     },
     "execution_count": 43,
     "metadata": {},
     "output_type": "execute_result"
    }
   ],
   "source": [
    "device_df = correct_years(df=device_df, cutoff_year=1997)\n",
    "device_df.head(20)"
   ]
  },
  {
   "cell_type": "markdown",
   "metadata": {},
   "source": [
    "### Publications by Year"
   ]
  },
  {
   "cell_type": "code",
   "execution_count": 44,
   "metadata": {},
   "outputs": [],
   "source": [
    "date_group = device_df.groupby([\"Date\"])"
   ]
  },
  {
   "cell_type": "code",
   "execution_count": 45,
   "metadata": {},
   "outputs": [
    {
     "data": {
      "text/plain": [
       "Date\n",
       "1952      1\n",
       "1955      1\n",
       "1956      1\n",
       "1957      1\n",
       "1962      1\n",
       "1964      1\n",
       "1965      1\n",
       "1967      1\n",
       "1968      6\n",
       "1969      3\n",
       "1970      1\n",
       "1971      9\n",
       "1972      7\n",
       "1973      9\n",
       "1974      5\n",
       "1975     10\n",
       "1976     24\n",
       "1977     29\n",
       "1978     21\n",
       "1979     36\n",
       "1980     32\n",
       "1981     21\n",
       "1982     26\n",
       "1983     29\n",
       "1984     32\n",
       "1985     37\n",
       "1986     49\n",
       "1987     38\n",
       "1988     28\n",
       "1989     35\n",
       "1990     51\n",
       "1991     90\n",
       "1992     96\n",
       "1993     97\n",
       "1994     96\n",
       "1995    158\n",
       "1996    133\n",
       "1997    154\n",
       "Name: Pubmed ID, dtype: int64"
      ]
     },
     "execution_count": 45,
     "metadata": {},
     "output_type": "execute_result"
    }
   ],
   "source": [
    "date_group[\"Pubmed ID\"].apply(lambda y: y.agg(lambda x : x.value_counts().sum()))"
   ]
  },
  {
   "cell_type": "code",
   "execution_count": 49,
   "metadata": {},
   "outputs": [],
   "source": [
    "device_pub_year_table = date_group[\"Journal\"].apply(lambda y: y.agg(lambda x : x.value_counts().sum()))"
   ]
  },
  {
   "cell_type": "code",
   "execution_count": 51,
   "metadata": {},
   "outputs": [
    {
     "data": {
      "text/plain": [
       "<BarContainer object of 38 artists>"
      ]
     },
     "execution_count": 51,
     "metadata": {},
     "output_type": "execute_result"
    },
    {
     "data": {
      "image/png": "[encoded data removed]",
      "text/plain": [
       "<Figure size 432x288 with 1 Axes>"
      ]
     },
     "metadata": {
      "needs_background": "light"
     },
     "output_type": "display_data"
    }
   ],
   "source": [
    "plt.bar(device_pub_year_table.index, [device_pub_year_table.get(x) for x in device_pub_year_table.index])"
   ]
  },
  {
   "cell_type": "markdown",
   "metadata": {},
   "source": [
    "### Temporal Varience in Article Title Word Frequncy\n",
    "\n",
    "For pie chart animation info: https://stackoverflow.com/questions/47358835/pie-chart-animation-in-python"
   ]
  },
  {
   "cell_type": "code",
   "execution_count": 79,
   "metadata": {},
   "outputs": [],
   "source": [
    "def calculate_frequency(date_group=date_group, start_year=1952, end_year=1997):\n",
    "    year_title_list = date_group[\"Title\"].unique()\n",
    "    \n",
    "    # Exclude adpositions and auxiliary verbs\n",
    "    exclude = [\"a\", \"an\", \"the\", \"that\", \"of\", \"for\", \"and\", \"nor\", \"but\", \"or\", \"yet\", \"so\", \"to\", \n",
    "           \"by\", \"any\", \"on\", \"with\", \"as\", \"in\", \"at\", \"from\", \"medical\", \"device\", \"devices\"]\n",
    "    t_dict = {}\n",
    "    \n",
    "    for year in range(start_year, end_year + 1):\n",
    "        t_dict[year] = {}\n",
    "        try:\n",
    "            for title in year_title_list[year]:\n",
    "                title = title.strip(\".? \")\n",
    "                title = title.replace(\";\", \"\")\n",
    "                title = title.replace(\":\", \"\")\n",
    "                title = title.replace(r\"(\", \"\")\n",
    "                title = title.replace(r\")\", \"\")\n",
    "                title = title.replace(\"--\", \" \")\n",
    "                title = title.split()\n",
    "                for word in title:\n",
    "                    word = word.lower()\n",
    "                    word = word.replace(\".\", \"\")\n",
    "                    if word in exclude:\n",
    "                        pass\n",
    "                    elif word in t_dict[year].keys():\n",
    "                        t_dict[year][word] += 1\n",
    "                    else:\n",
    "                        t_dict[year][word] = 1\n",
    "        except KeyError:  # If there were no publication in a year in the range\n",
    "            pass\n",
    "    \n",
    "    return t_dict"
   ]
  },
  {
   "cell_type": "code",
   "execution_count": 84,
   "metadata": {},
   "outputs": [],
   "source": [
    "def most_frequent(data_dict, most_common_n):\n",
    "    top_dict = {}\n",
    "    for item in data_dict:\n",
    "        if item == {}:\n",
    "            pass\n",
    "        else:\n",
    "            for word in data_dict[item]:\n",
    "                if word in top_dict.keys():\n",
    "                    top_dict[word] += 1\n",
    "                else:\n",
    "                    top_dict[word] = 1\n",
    "                    \n",
    "    top_final = [(k,v) for k,v in Counter(top_dict).most_common(most_common_n)]\n",
    "    \n",
    "    return top_final"
   ]
  },
  {
   "cell_type": "code",
   "execution_count": 80,
   "metadata": {},
   "outputs": [],
   "source": [
    "device_tvd = calculate_frequency(date_group=date_group, start_year=1952, end_year=1997)"
   ]
  },
  {
   "cell_type": "code",
   "execution_count": 97,
   "metadata": {},
   "outputs": [],
   "source": [
    "frequency = most_frequent(data_dict=device_tvd, most_common_n=20)"
   ]
  },
  {
   "cell_type": "code",
   "execution_count": 98,
   "metadata": {},
   "outputs": [
    {
     "data": {
      "text/plain": [
       "<BarContainer object of 20 artists>"
      ]
     },
     "execution_count": 98,
     "metadata": {},
     "output_type": "execute_result"
    },
    {
     "data": {
      "image/png": "[encoded data removed]",
      "text/plain": [
       "<Figure size 432x288 with 1 Axes>"
      ]
     },
     "metadata": {
      "needs_background": "light"
     },
     "output_type": "display_data"
    }
   ],
   "source": [
    "plt.bar(x=[x[0] for x in frequency], height=[x[1] for x in frequency])"
   ]
  },
  {
   "cell_type": "markdown",
   "metadata": {},
   "source": [
    "# Network Anaylsis"
   ]
  },
  {
   "cell_type": "code",
   "execution_count": 48,
   "metadata": {},
   "outputs": [
    {
     "data": {
      "text/plain": [
       "'\\nclass Author:\\n    def __init__(self, ident, name, affiliation, weight):\\n        self.ident = ident\\n        self.name = name\\n        self.affiliation = affiliation\\n        self.weight = weight\\n'"
      ]
     },
     "execution_count": 48,
     "metadata": {},
     "output_type": "execute_result"
    }
   ],
   "source": [
    "'''\n",
    "class Author:\n",
    "    def __init__(self, ident, name, affiliation, weight):\n",
    "        self.ident = ident\n",
    "        self.name = name\n",
    "        self.affiliation = affiliation\n",
    "        self.weight = weight\n",
    "'''"
   ]
  },
  {
   "cell_type": "code",
   "execution_count": 49,
   "metadata": {},
   "outputs": [],
   "source": [
    "def get_author_info(auth_list , write_file):\n",
    "    identifier_list = {}\n",
    "    id_count = 1\n",
    "    \n",
    "    for paper in auth_list:\n",
    "        for author in paper:\n",
    "            # Create data structure for author\n",
    "            if author[\"name\"] == None:\n",
    "                pass\n",
    "            elif author[\"name\"].lower() in [item.lower() for item in identifier_list.keys()]:\n",
    "                identifier_list[author[\"name\"]][\"weight\"] += 1\n",
    "            else:\n",
    "                identifier_list[author[\"name\"]]  = {\"id\": id_count, \"affiliation\":author[\"affiliation\"], \"weight\": 1, \"edges\":[]}\n",
    "\n",
    "            # Append other authors to edges list\n",
    "            temp_list = [o_author[\"name\"] for o_author in paper]\n",
    "            for item in temp_list:\n",
    "                if item != author[\"name\"]:\n",
    "                    identifier_list[author[\"name\"]][\"edges\"].append(item) \n",
    "\n",
    "            id_count +=1\n",
    "            \n",
    "    with open(write_file, \"w\") as f:\n",
    "        json.dump(identifier_list, f, indent=4)"
   ]
  },
  {
   "cell_type": "code",
   "execution_count": 50,
   "metadata": {},
   "outputs": [],
   "source": [
    "with open(\"device_pubmed_data.json\", \"r\") as f:\n",
    "    auth_list = json.load(f)[\"Authors\"]\n",
    "    get_author_info(auth_list=auth_list , write_file=\"device_author_data.json\")"
   ]
  },
  {
   "cell_type": "code",
   "execution_count": 51,
   "metadata": {},
   "outputs": [
    {
     "name": "stdout",
     "output_type": "stream",
     "text": [
      "1994\n"
     ]
    }
   ],
   "source": [
    "with open(\"device_author_data.json\") as f:\n",
    "    test = json.load(f)\n",
    "print(len(test))"
   ]
  },
  {
   "cell_type": "code",
   "execution_count": null,
   "metadata": {},
   "outputs": [],
   "source": []
  }
 ],
 "metadata": {
  "colab": {
   "name": "PubMed API Data Analysis.ipynb",
   "provenance": []
  },
  "kernelspec": {
   "display_name": "Python 3",
   "language": "python",
   "name": "python3"
  },
  "language_info": {
   "codemirror_mode": {
    "name": "ipython",
    "version": 3
   },
   "file_extension": ".py",
   "mimetype": "text/x-python",
   "name": "python",
   "nbconvert_exporter": "python",
   "pygments_lexer": "ipython3",
   "version": "3.8.5"
  }
 },
 "nbformat": 4,
 "nbformat_minor": 4
}
